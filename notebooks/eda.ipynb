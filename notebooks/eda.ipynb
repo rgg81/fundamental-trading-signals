{
 "cells": [
  {
   "cell_type": "code",
   "execution_count": 1,
   "id": "2b49d75a-b1bb-4966-bb98-af5ffbc5dac0",
   "metadata": {},
   "outputs": [],
   "source": [
    "import pandas as pd\n",
    "import numpy as np\n",
    "import matplotlib.pyplot as plt\n",
    "import seaborn as sns\n",
    "import lightgbm as lgb\n",
    "from sklearn.model_selection import train_test_split\n",
    "from sklearn.metrics import classification_report"
   ]
  },
  {
   "cell_type": "code",
   "execution_count": 24,
   "id": "709e1e95-a6d1-4fed-889b-15d7fe7a33ba",
   "metadata": {},
   "outputs": [
    {
     "name": "stdout",
     "output_type": "stream",
     "text": [
      "Dataset Shape: (267, 89)  Columns Index(['EU_CPI', 'EU_10Y_Yield', 'ECB_Deposit_Rate', 'US_CPI', 'US_Core_CPI',\n",
      "       'Fed_Funds_Rate', 'US_10Y_Yield', 'VIX', 'EU_CPI_lag_1', 'EU_CPI_lag_2',\n",
      "       'EU_CPI_lag_3', 'US_CPI_lag_1', 'US_CPI_lag_2', 'US_CPI_lag_3',\n",
      "       'US_Core_CPI_lag_1', 'US_Core_CPI_lag_2', 'US_Core_CPI_lag_3',\n",
      "       'EU_10Y_Yield_lag_1', 'EU_10Y_Yield_lag_2', 'EU_10Y_Yield_lag_3',\n",
      "       'US_10Y_Yield_lag_1', 'US_10Y_Yield_lag_2', 'US_10Y_Yield_lag_3',\n",
      "       'Fed_Funds_Rate_lag_1', 'Fed_Funds_Rate_lag_2', 'Fed_Funds_Rate_lag_3',\n",
      "       'ECB_Deposit_Rate_lag_1', 'ECB_Deposit_Rate_lag_2',\n",
      "       'ECB_Deposit_Rate_lag_3', 'VIX_lag_1', 'VIX_lag_2', 'VIX_lag_3',\n",
      "       'EU_CPI_roc_1', 'EU_CPI_roc_2', 'EU_CPI_roc_3', 'US_CPI_roc_1',\n",
      "       'US_CPI_roc_2', 'US_CPI_roc_3', 'US_Core_CPI_roc_1',\n",
      "       'US_Core_CPI_roc_2', 'US_Core_CPI_roc_3', 'EU_10Y_Yield_roc_1',\n",
      "       'EU_10Y_Yield_roc_2', 'EU_10Y_Yield_roc_3', 'US_10Y_Yield_roc_1',\n",
      "       'US_10Y_Yield_roc_2', 'US_10Y_Yield_roc_3', 'Fed_Funds_Rate_roc_1',\n",
      "       'Fed_Funds_Rate_roc_2', 'Fed_Funds_Rate_roc_3',\n",
      "       'ECB_Deposit_Rate_roc_1', 'ECB_Deposit_Rate_roc_2',\n",
      "       'ECB_Deposit_Rate_roc_3', 'VIX_roc_1', 'VIX_roc_2', 'VIX_roc_3',\n",
      "       'EU_CPI_ma_3', 'EU_CPI_ma_6', 'EU_CPI_ma_12', 'US_CPI_ma_3',\n",
      "       'US_CPI_ma_6', 'US_CPI_ma_12', 'US_Core_CPI_ma_3', 'US_Core_CPI_ma_6',\n",
      "       'US_Core_CPI_ma_12', 'EU_10Y_Yield_ma_3', 'EU_10Y_Yield_ma_6',\n",
      "       'EU_10Y_Yield_ma_12', 'US_10Y_Yield_ma_3', 'US_10Y_Yield_ma_6',\n",
      "       'US_10Y_Yield_ma_12', 'Fed_Funds_Rate_ma_3', 'Fed_Funds_Rate_ma_6',\n",
      "       'Fed_Funds_Rate_ma_12', 'ECB_Deposit_Rate_ma_3',\n",
      "       'ECB_Deposit_Rate_ma_6', 'ECB_Deposit_Rate_ma_12', 'VIX_ma_3',\n",
      "       'VIX_ma_6', 'VIX_ma_12', 'VIX_vol_3', 'VIX_vol_6', 'VIX_vol_12',\n",
      "       'US_10Y_Yield_vol_3', 'US_10Y_Yield_vol_6', 'US_10Y_Yield_vol_12',\n",
      "       'EU_10Y_Yield_vol_3', 'EU_10Y_Yield_vol_6', 'EU_10Y_Yield_vol_12'],\n",
      "      dtype='object')\n"
     ]
    }
   ],
   "source": [
    "# Load data\n",
    "features = pd.read_csv(\"../src/features/macro_features.csv\", parse_dates=[\"Date\"])\n",
    "features.set_index(\"Date\", inplace=True)\n",
    "# Basic Data Overview\n",
    "print(\"Dataset Shape:\", features.shape, \" Columns\", features.columns)"
   ]
  },
  {
   "cell_type": "code",
   "execution_count": 5,
   "id": "5890d31a-5465-46e1-bb05-59e988014d58",
   "metadata": {},
   "outputs": [
    {
     "name": "stdout",
     "output_type": "stream",
     "text": [
      "Dataset Shape: (303,)\n",
      "<bound method NDFrame.tail of Date\n",
      "2000-01-31    0.97000\n",
      "2000-02-29    0.96460\n",
      "2000-03-31    0.95510\n",
      "2000-04-30    0.91140\n",
      "2000-05-31    0.93680\n",
      "               ...   \n",
      "2024-11-30    1.05748\n",
      "2024-12-31    1.03526\n",
      "2025-01-31    1.03602\n",
      "2025-02-28    1.03747\n",
      "2025-03-31    1.08532\n",
      "Name: EURUSD_Close, Length: 303, dtype: float64>\n"
     ]
    }
   ],
   "source": [
    "# Load close price data\n",
    "price = pd.read_csv(\"../src/data_fetch/EURUSD.csv\", parse_dates=[\"Date\"])\n",
    "price.set_index(\"Date\", inplace=True)\n",
    "price = price[\"EURUSD_Close\"]\n",
    "# Basic Data Overview\n",
    "print(\"Dataset Shape:\", price.shape)\n",
    "print(price.tail)"
   ]
  },
  {
   "cell_type": "code",
   "execution_count": 6,
   "id": "9bb3c3cf-0e04-40dc-8af9-a50c338e3320",
   "metadata": {},
   "outputs": [
    {
     "name": "stdout",
     "output_type": "stream",
     "text": [
      "<bound method NDFrame.tail of Date\n",
      "2000-01-31         NaN\n",
      "2000-02-29   -0.005567\n",
      "2000-03-31   -0.009849\n",
      "2000-04-30   -0.045754\n",
      "2000-05-31    0.027869\n",
      "                ...   \n",
      "2024-11-30   -0.028400\n",
      "2024-12-31   -0.021012\n",
      "2025-01-31    0.000734\n",
      "2025-02-28    0.001400\n",
      "2025-03-31    0.046122\n",
      "Name: EURUSD_Close, Length: 303, dtype: float64>\n"
     ]
    }
   ],
   "source": [
    "price_return = price.pct_change()\n",
    "print(price_return.tail)"
   ]
  },
  {
   "cell_type": "code",
   "execution_count": 7,
   "id": "4ea977c3-6fe5-40fb-b528-f26f4f65f21e",
   "metadata": {},
   "outputs": [
    {
     "data": {
      "text/plain": [
       "count    302.000000\n",
       "mean       0.000739\n",
       "std        0.027124\n",
       "min       -0.098301\n",
       "25%       -0.014849\n",
       "50%        0.000158\n",
       "75%        0.017112\n",
       "max        0.103177\n",
       "Name: EURUSD_Close, dtype: float64"
      ]
     },
     "execution_count": 7,
     "metadata": {},
     "output_type": "execute_result"
    }
   ],
   "source": [
    "price_return.describe()"
   ]
  },
  {
   "cell_type": "code",
   "execution_count": 17,
   "id": "b836989c-edd6-40d2-966f-ad0d88e5c4e0",
   "metadata": {},
   "outputs": [
    {
     "data": {
      "text/plain": [
       "count    153.000000\n",
       "mean       0.020813\n",
       "std        0.017985\n",
       "min        0.000073\n",
       "25%        0.007451\n",
       "50%        0.016792\n",
       "75%        0.027869\n",
       "max        0.103177\n",
       "Name: EURUSD_Close, dtype: float64"
      ]
     },
     "execution_count": 17,
     "metadata": {},
     "output_type": "execute_result"
    }
   ],
   "source": [
    "price_return.loc[price_return > 0].describe()"
   ]
  },
  {
   "cell_type": "code",
   "execution_count": 18,
   "id": "4ca98f93-b6f9-4a25-909c-90db18241c6a",
   "metadata": {},
   "outputs": [
    {
     "data": {
      "text/plain": [
       "count    149.000000\n",
       "mean      -0.019873\n",
       "std        0.017883\n",
       "min       -0.098301\n",
       "25%       -0.025967\n",
       "50%       -0.015263\n",
       "75%       -0.007159\n",
       "max       -0.000432\n",
       "Name: EURUSD_Close, dtype: float64"
      ]
     },
     "execution_count": 18,
     "metadata": {},
     "output_type": "execute_result"
    }
   ],
   "source": [
    "price_return.loc[price_return < 0].describe()"
   ]
  },
  {
   "cell_type": "code",
   "execution_count": 19,
   "id": "78b287c6-3829-4a6c-a612-e568d6c4ee48",
   "metadata": {},
   "outputs": [],
   "source": [
    "labels = price_return.apply(lambda x: 1 if x > 0 else 0)"
   ]
  },
  {
   "cell_type": "code",
   "execution_count": 20,
   "id": "8f0de507-0d4f-4d7f-819f-2b5d54f01b76",
   "metadata": {},
   "outputs": [
    {
     "data": {
      "text/plain": [
       "Date\n",
       "2000-01-31    0\n",
       "2000-02-29    0\n",
       "2000-03-31    0\n",
       "2000-04-30    0\n",
       "2000-05-31    1\n",
       "             ..\n",
       "2024-11-30    0\n",
       "2024-12-31    0\n",
       "2025-01-31    1\n",
       "2025-02-28    1\n",
       "2025-03-31    1\n",
       "Name: EURUSD_Close, Length: 303, dtype: int64"
      ]
     },
     "execution_count": 20,
     "metadata": {},
     "output_type": "execute_result"
    }
   ],
   "source": [
    "labels"
   ]
  },
  {
   "cell_type": "code",
   "execution_count": 38,
   "id": "2528e0ea-44e4-4873-af2a-1b8af984659e",
   "metadata": {},
   "outputs": [
    {
     "data": {
      "image/png": "[encoded data removed]",
      "text/plain": [
       "<Figure size 1200x800 with 2 Axes>"
      ]
     },
     "metadata": {},
     "output_type": "display_data"
    }
   ],
   "source": [
    "# Correlation Analysis\n",
    "plt.figure(figsize=(12, 8))\n",
    "corr_matrix = features[[\"EU_CPI\", \"EU_10Y_Yield\", \"US_Core_CPI\", \"VIX\"]].corr()\n",
    "sns.heatmap(corr_matrix, annot=True, fmt=\".2f\", linewidths=0.5)\n",
    "plt.title(\"Feature Correlation Heatmap\")\n",
    "plt.show()"
   ]
  },
  {
   "cell_type": "code",
   "execution_count": null,
   "id": "3496091a-6efc-4245-a850-f362bb79d912",
   "metadata": {},
   "outputs": [],
   "source": []
  }
 ],
 "metadata": {
  "kernelspec": {
   "display_name": "Python 3 (ipykernel)",
   "language": "python",
   "name": "python3"
  },
  "language_info": {
   "codemirror_mode": {
    "name": "ipython",
    "version": 3
   },
   "file_extension": ".py",
   "mimetype": "text/x-python",
   "name": "python",
   "nbconvert_exporter": "python",
   "pygments_lexer": "ipython3",
   "version": "3.11.7"
  }
 },
 "nbformat": 4,
 "nbformat_minor": 5
}
